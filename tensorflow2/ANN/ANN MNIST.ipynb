{
 "cells": [
  {
   "cell_type": "code",
   "execution_count": 11,
   "metadata": {},
   "outputs": [],
   "source": [
    "import tensorflow as tf\n",
    "import matplotlib.pyplot as plt\n",
    "from sklearn.metrics import confusion_matrix\n",
    "import numpy as np\n",
    "import itertools"
   ]
  },
  {
   "cell_type": "code",
   "execution_count": 2,
   "metadata": {},
   "outputs": [],
   "source": [
    "# load the data\n",
    "mnist = tf.keras.datasets.mnist"
   ]
  },
  {
   "cell_type": "code",
   "execution_count": 3,
   "metadata": {},
   "outputs": [],
   "source": [
    "# split and norm the data\n",
    "(x_train, y_train), (x_test, y_test) = mnist.load_data()\n",
    "x_train, x_test = x_train / 255.0, x_test / 255.0"
   ]
  },
  {
   "cell_type": "code",
   "execution_count": 4,
   "metadata": {},
   "outputs": [],
   "source": [
    "# build the model\n",
    "model = tf.keras.models.Sequential([\n",
    "  tf.keras.layers.Flatten(input_shape=(28, 28)),\n",
    "  tf.keras.layers.Dense(128, activation='relu'),\n",
    "  tf.keras.layers.Dropout(0.2),\n",
    "  tf.keras.layers.Dense(10, activation='softmax')\n",
    "])"
   ]
  },
  {
   "cell_type": "code",
   "execution_count": 5,
   "metadata": {},
   "outputs": [],
   "source": [
    "model.compile(optimizer='adam',\n",
    "              loss='sparse_categorical_crossentropy',\n",
    "              metrics=['accuracy'])"
   ]
  },
  {
   "cell_type": "code",
   "execution_count": 6,
   "metadata": {},
   "outputs": [
    {
     "name": "stdout",
     "output_type": "stream",
     "text": [
      "Epoch 1/10\n",
      "1875/1875 [==============================] - 2s 1ms/step - loss: 0.4865 - accuracy: 0.8568 - val_loss: 0.1468 - val_accuracy: 0.9543\n",
      "Epoch 2/10\n",
      "1875/1875 [==============================] - 2s 919us/step - loss: 0.1573 - accuracy: 0.9554 - val_loss: 0.1031 - val_accuracy: 0.9684\n",
      "Epoch 3/10\n",
      "1875/1875 [==============================] - 2s 918us/step - loss: 0.1101 - accuracy: 0.9669 - val_loss: 0.0852 - val_accuracy: 0.9741\n",
      "Epoch 4/10\n",
      "1875/1875 [==============================] - 2s 923us/step - loss: 0.0875 - accuracy: 0.9727 - val_loss: 0.0807 - val_accuracy: 0.9754\n",
      "Epoch 5/10\n",
      "1875/1875 [==============================] - 2s 941us/step - loss: 0.0754 - accuracy: 0.9764 - val_loss: 0.0757 - val_accuracy: 0.9775\n",
      "Epoch 6/10\n",
      "1875/1875 [==============================] - 2s 924us/step - loss: 0.0663 - accuracy: 0.9789 - val_loss: 0.0781 - val_accuracy: 0.9757\n",
      "Epoch 7/10\n",
      "1875/1875 [==============================] - 2s 927us/step - loss: 0.0586 - accuracy: 0.9813 - val_loss: 0.0729 - val_accuracy: 0.9792\n",
      "Epoch 8/10\n",
      "1875/1875 [==============================] - 2s 933us/step - loss: 0.0522 - accuracy: 0.9824 - val_loss: 0.0710 - val_accuracy: 0.9785\n",
      "Epoch 9/10\n",
      "1875/1875 [==============================] - 2s 942us/step - loss: 0.0446 - accuracy: 0.9852 - val_loss: 0.0717 - val_accuracy: 0.9800\n",
      "Epoch 10/10\n",
      "1875/1875 [==============================] - 2s 935us/step - loss: 0.0456 - accuracy: 0.9847 - val_loss: 0.0707 - val_accuracy: 0.9808\n"
     ]
    }
   ],
   "source": [
    "# train the model\n",
    "r = model.fit(x_train, y_train, validation_data=(x_test, y_test), epochs=10)"
   ]
  },
  {
   "cell_type": "code",
   "execution_count": 7,
   "metadata": {},
   "outputs": [
    {
     "data": {
      "text/plain": [
       "{'validation_data': None,\n",
       " 'model': <tensorflow.python.keras.engine.sequential.Sequential at 0x7fbdf2653f40>,\n",
       " '_chief_worker_only': None,\n",
       " '_supports_tf_logs': False,\n",
       " 'history': {'loss': [0.2993033528327942,\n",
       "   0.14459046721458435,\n",
       "   0.10641218721866608,\n",
       "   0.08742044866085052,\n",
       "   0.07554941624403,\n",
       "   0.06628360599279404,\n",
       "   0.057901158928871155,\n",
       "   0.053226642310619354,\n",
       "   0.047045350074768066,\n",
       "   0.04470418393611908],\n",
       "  'accuracy': [0.9125833511352539,\n",
       "   0.9571499824523926,\n",
       "   0.9678500294685364,\n",
       "   0.9729833602905273,\n",
       "   0.9763666391372681,\n",
       "   0.9788166880607605,\n",
       "   0.9814333319664001,\n",
       "   0.9826666712760925,\n",
       "   0.9848499894142151,\n",
       "   0.9848833084106445],\n",
       "  'val_loss': [0.14681242406368256,\n",
       "   0.10312430560588837,\n",
       "   0.08521373569965363,\n",
       "   0.08071013540029526,\n",
       "   0.07566007226705551,\n",
       "   0.07814060896635056,\n",
       "   0.07293223589658737,\n",
       "   0.0710233673453331,\n",
       "   0.07170040905475616,\n",
       "   0.07073323428630829],\n",
       "  'val_accuracy': [0.9542999863624573,\n",
       "   0.9684000015258789,\n",
       "   0.9740999937057495,\n",
       "   0.9753999710083008,\n",
       "   0.9775000214576721,\n",
       "   0.9757000207901001,\n",
       "   0.979200005531311,\n",
       "   0.9785000085830688,\n",
       "   0.9800000190734863,\n",
       "   0.9807999730110168]},\n",
       " 'params': {'verbose': 1, 'epochs': 10, 'steps': 1875},\n",
       " 'epoch': [0, 1, 2, 3, 4, 5, 6, 7, 8, 9]}"
      ]
     },
     "execution_count": 7,
     "metadata": {},
     "output_type": "execute_result"
    }
   ],
   "source": [
    "r.__dict__"
   ]
  },
  {
   "cell_type": "code",
   "execution_count": 8,
   "metadata": {},
   "outputs": [
    {
     "data": {
      "text/plain": [
       "<matplotlib.legend.Legend at 0x7fbdd4425d60>"
      ]
     },
     "execution_count": 8,
     "metadata": {},
     "output_type": "execute_result"
    },
    {
     "data": {
      "image/png": "[encoded data removed]",
      "text/plain": [
       "<Figure size 432x288 with 1 Axes>"
      ]
     },
     "metadata": {
      "needs_background": "light"
     },
     "output_type": "display_data"
    }
   ],
   "source": [
    "# plot the result\n",
    "plt.plot(r.history['loss'], label='loss')\n",
    "plt.plot(r.history['val_loss'], label='val_loss')\n",
    "plt.legend()"
   ]
  },
  {
   "cell_type": "code",
   "execution_count": 9,
   "metadata": {},
   "outputs": [
    {
     "data": {
      "text/plain": [
       "<matplotlib.legend.Legend at 0x7fbdd42f9d90>"
      ]
     },
     "execution_count": 9,
     "metadata": {},
     "output_type": "execute_result"
    },
    {
     "data": {
      "image/png": "[encoded data removed]",
      "text/plain": [
       "<Figure size 432x288 with 1 Axes>"
      ]
     },
     "metadata": {
      "needs_background": "light"
     },
     "output_type": "display_data"
    }
   ],
   "source": [
    "plt.plot(r.history['accuracy'], label='acc')\n",
    "plt.plot(r.history['val_accuracy'], label='val_acc')\n",
    "plt.legend()"
   ]
  },
  {
   "cell_type": "code",
   "execution_count": 10,
   "metadata": {},
   "outputs": [
    {
     "name": "stdout",
     "output_type": "stream",
     "text": [
      "313/313 [==============================] - 0s 655us/step - loss: 0.0707 - accuracy: 0.9808\n",
      "[0.07073323428630829, 0.9807999730110168]\n"
     ]
    }
   ],
   "source": [
    "# Evaluate the model\n",
    "print(model.evaluate(x_test, y_test))"
   ]
  },
  {
   "cell_type": "code",
   "execution_count": 20,
   "metadata": {},
   "outputs": [
    {
     "name": "stdout",
     "output_type": "stream",
     "text": [
      "Confusion matrix, without normalization\n",
      "[[ 972    0    2    1    1    0    1    2    1    0]\n",
      " [   0 1122    2    1    0    0    2    1    7    0]\n",
      " [   3    0 1015    1    3    0    2    3    4    1]\n",
      " [   0    0    3  994    0    4    0    6    2    1]\n",
      " [   2    0    1    0  968    0    2    1    2    6]\n",
      " [   2    1    0    7    1  873    2    1    4    1]\n",
      " [   5    1    0    0    6    6  937    0    3    0]\n",
      " [   1    3   13    3    0    0    0 1004    2    2]\n",
      " [   2    0    2    4    5    0    0    6  953    2]\n",
      " [   2    3    0    5   11    7    0    7    4  970]]\n"
     ]
    },
    {
     "data": {
      "image/png": "[encoded data removed]",
      "text/plain": [
       "<Figure size 432x288 with 2 Axes>"
      ]
     },
     "metadata": {
      "needs_background": "light"
     },
     "output_type": "display_data"
    }
   ],
   "source": [
    "# Plot confusion matrix\n",
    "def plot_confusion_matrix(cm, classes, x_train = x_train / 255.0, x_test = x_test / 255.0,\n",
    "                          normalize=False,\n",
    "                          title='Confusion matrix',\n",
    "                          cmap=plt.cm.Blues):\n",
    "    \"\"\"\n",
    "    This function prints and plots the confusion matrix.\n",
    "    Normalization can be applied by setting `normalize=True`.\n",
    "    \"\"\"\n",
    "    if normalize:\n",
    "        cm = cm.astype('float') / cm.sum(axis=1)[:, np.newaxis]\n",
    "        print(\"Normalized confusion matrix\")\n",
    "    else:\n",
    "        print('Confusion matrix, without normalization')\n",
    "\n",
    "    print(cm)\n",
    "\n",
    "    plt.imshow(cm, interpolation='nearest', cmap=cmap)\n",
    "    plt.title(title)\n",
    "    plt.colorbar()\n",
    "    tick_marks = np.arange(len(classes))\n",
    "    plt.xticks(tick_marks, classes, rotation=45)\n",
    "    plt.yticks(tick_marks, classes)\n",
    "  \n",
    "    fmt = '.2f' if normalize else 'd'\n",
    "    thresh = cm.max() / 2.\n",
    "    for i, j in itertools.product(range(cm.shape[0]), range(cm.shape[1])):\n",
    "        plt.text(j, i, format(cm[i, j], fmt),\n",
    "                 horizontalalignment=\"center\",\n",
    "                 color=\"white\" if cm[i, j] > thresh else \"black\")\n",
    "  \n",
    "    plt.tight_layout()\n",
    "    plt.ylabel('True label')\n",
    "    plt.xlabel('Predicted label')\n",
    "    plt.show()\n",
    "  \n",
    "p_test = model.predict(x_test).argmax(axis=1)\n",
    "cm = confusion_matrix(y_test, p_test)\n",
    "plot_confusion_matrix(cm, list(range(10)))"
   ]
  },
  {
   "cell_type": "code",
   "execution_count": 21,
   "metadata": {},
   "outputs": [
    {
     "data": {
      "image/png": "[encoded data removed]",
      "text/plain": [
       "<Figure size 432x288 with 1 Axes>"
      ]
     },
     "metadata": {
      "needs_background": "light"
     },
     "output_type": "display_data"
    }
   ],
   "source": [
    "# Show some misclassified examples\n",
    "misclassified_idx = np.where(p_test != y_test)[0]\n",
    "i = np.random.choice(misclassified_idx)\n",
    "plt.imshow(x_test[i], cmap='gray')\n",
    "plt.title(\"True label: %s Predicted: %s\" % (y_test[i], p_test[i]));"
   ]
  }
 ],
 "metadata": {
  "kernelspec": {
   "display_name": "Python 3",
   "language": "python",
   "name": "python3"
  },
  "language_info": {
   "codemirror_mode": {
    "name": "ipython",
    "version": 3
   },
   "file_extension": ".py",
   "mimetype": "text/x-python",
   "name": "python",
   "nbconvert_exporter": "python",
   "pygments_lexer": "ipython3",
   "version": "3.8.6"
  }
 },
 "nbformat": 4,
 "nbformat_minor": 4
}
