{
 "cells": [
  {
   "cell_type": "code",
   "execution_count": 14,
   "metadata": {},
   "outputs": [],
   "source": [
    "import numpy as np\n",
    "import pandas as pd \n",
    "import tensorflow as tf\n",
    "import matplotlib.pyplot as plt"
   ]
  },
  {
   "cell_type": "code",
   "execution_count": 12,
   "metadata": {},
   "outputs": [],
   "source": [
    "# load the data\n",
    "data = pd.read_csv('data/moore.csv', header=None).values\n",
    "X = data[:,0].reshape(-1, 1) # make it a 2-D array of size N x D where D = 1\n",
    "Y = data[:,1]"
   ]
  },
  {
   "cell_type": "code",
   "execution_count": 16,
   "metadata": {},
   "outputs": [
    {
     "data": {
      "text/plain": [
       "<matplotlib.collections.PathCollection at 0x7f013dd83490>"
      ]
     },
     "execution_count": 16,
     "metadata": {},
     "output_type": "execute_result"
    },
    {
     "data": {
      "image/png": "[encoded data removed]",
      "text/plain": [
       "<Figure size 432x288 with 1 Axes>"
      ]
     },
     "metadata": {
      "needs_background": "light"
     },
     "output_type": "display_data"
    }
   ],
   "source": [
    "# plot the data\n",
    "plt.scatter(X, Y)"
   ]
  },
  {
   "cell_type": "code",
   "execution_count": 17,
   "metadata": {},
   "outputs": [
    {
     "data": {
      "text/plain": [
       "<matplotlib.collections.PathCollection at 0x7f013dd73550>"
      ]
     },
     "execution_count": 17,
     "metadata": {},
     "output_type": "execute_result"
    },
    {
     "data": {
      "image/png": "[encoded data removed]",
      "text/plain": [
       "<Figure size 432x288 with 1 Axes>"
      ]
     },
     "metadata": {
      "needs_background": "light"
     },
     "output_type": "display_data"
    }
   ],
   "source": [
    "Y = np.log(Y)\n",
    "plt.scatter(X, Y)"
   ]
  },
  {
   "cell_type": "code",
   "execution_count": 18,
   "metadata": {},
   "outputs": [],
   "source": [
    "X = X - X.mean()"
   ]
  },
  {
   "cell_type": "code",
   "execution_count": 25,
   "metadata": {},
   "outputs": [
    {
     "name": "stdout",
     "output_type": "stream",
     "text": [
      "Epoch 1/200\n",
      "4/4 [==============================] - 0s 1ms/step - loss: 8.7543\n",
      "Epoch 2/200\n",
      "4/4 [==============================] - 0s 1ms/step - loss: 8.1378\n",
      "Epoch 3/200\n",
      "4/4 [==============================] - 0s 1ms/step - loss: 7.1274\n",
      "Epoch 4/200\n",
      "4/4 [==============================] - 0s 1ms/step - loss: 6.0904\n",
      "Epoch 5/200\n",
      "4/4 [==============================] - 0s 1ms/step - loss: 5.9017\n",
      "Epoch 6/200\n",
      "4/4 [==============================] - 0s 1ms/step - loss: 4.6058\n",
      "Epoch 7/200\n",
      "4/4 [==============================] - 0s 1ms/step - loss: 3.6047\n",
      "Epoch 8/200\n",
      "4/4 [==============================] - 0s 1ms/step - loss: 3.0588\n",
      "Epoch 9/200\n",
      "4/4 [==============================] - 0s 1ms/step - loss: 2.5574\n",
      "Epoch 10/200\n",
      "4/4 [==============================] - 0s 1ms/step - loss: 2.1523\n",
      "Epoch 11/200\n",
      "4/4 [==============================] - 0s 873us/step - loss: 1.7526\n",
      "Epoch 12/200\n",
      "4/4 [==============================] - 0s 1ms/step - loss: 1.4701\n",
      "Epoch 13/200\n",
      "4/4 [==============================] - 0s 990us/step - loss: 1.1399\n",
      "Epoch 14/200\n",
      "4/4 [==============================] - 0s 1ms/step - loss: 0.9358\n",
      "Epoch 15/200\n",
      "4/4 [==============================] - 0s 869us/step - loss: 0.8421\n",
      "Epoch 16/200\n",
      "4/4 [==============================] - 0s 951us/step - loss: 0.5895\n",
      "Epoch 17/200\n",
      "4/4 [==============================] - 0s 1ms/step - loss: 0.5763\n",
      "Epoch 18/200\n",
      "4/4 [==============================] - 0s 811us/step - loss: 0.4507\n",
      "Epoch 19/200\n",
      "4/4 [==============================] - 0s 898us/step - loss: 0.3327\n",
      "Epoch 20/200\n",
      "4/4 [==============================] - 0s 874us/step - loss: 0.3552\n",
      "Epoch 21/200\n",
      "4/4 [==============================] - 0s 917us/step - loss: 0.2458\n",
      "Epoch 22/200\n",
      "4/4 [==============================] - 0s 1ms/step - loss: 0.1899\n",
      "Epoch 23/200\n",
      "4/4 [==============================] - 0s 813us/step - loss: 0.1531\n",
      "Epoch 24/200\n",
      "4/4 [==============================] - 0s 1ms/step - loss: 0.1239\n",
      "Epoch 25/200\n",
      "4/4 [==============================] - 0s 1ms/step - loss: 0.0994\n",
      "Epoch 26/200\n",
      "4/4 [==============================] - 0s 954us/step - loss: 0.0811\n",
      "Epoch 27/200\n",
      "4/4 [==============================] - 0s 737us/step - loss: 0.0627\n",
      "Epoch 28/200\n",
      "4/4 [==============================] - 0s 877us/step - loss: 0.0519\n",
      "Epoch 29/200\n",
      "4/4 [==============================] - 0s 885us/step - loss: 0.0441\n",
      "Epoch 30/200\n",
      "4/4 [==============================] - 0s 862us/step - loss: 0.0370\n",
      "Epoch 31/200\n",
      "4/4 [==============================] - 0s 876us/step - loss: 0.0298\n",
      "Epoch 32/200\n",
      "4/4 [==============================] - 0s 996us/step - loss: 0.0259\n",
      "Epoch 33/200\n",
      "4/4 [==============================] - 0s 1ms/step - loss: 0.0222\n",
      "Epoch 34/200\n",
      "4/4 [==============================] - 0s 1ms/step - loss: 0.0193\n",
      "Epoch 35/200\n",
      "4/4 [==============================] - 0s 956us/step - loss: 0.0158\n",
      "Epoch 36/200\n",
      "4/4 [==============================] - 0s 878us/step - loss: 0.0152\n",
      "Epoch 37/200\n",
      "4/4 [==============================] - 0s 872us/step - loss: 0.0131\n",
      "Epoch 38/200\n",
      "4/4 [==============================] - 0s 3ms/step - loss: 0.0110\n",
      "Epoch 39/200\n",
      "4/4 [==============================] - 0s 956us/step - loss: 0.0098\n",
      "Epoch 40/200\n",
      "4/4 [==============================] - 0s 834us/step - loss: 0.0089\n",
      "Epoch 41/200\n",
      "4/4 [==============================] - 0s 861us/step - loss: 0.0086\n",
      "Epoch 42/200\n",
      "4/4 [==============================] - 0s 926us/step - loss: 0.0085\n",
      "Epoch 43/200\n",
      "4/4 [==============================] - 0s 995us/step - loss: 0.0084\n",
      "Epoch 44/200\n",
      "4/4 [==============================] - 0s 1ms/step - loss: 0.0086\n",
      "Epoch 45/200\n",
      "4/4 [==============================] - 0s 1ms/step - loss: 0.0075\n",
      "Epoch 46/200\n",
      "4/4 [==============================] - 0s 951us/step - loss: 0.0064\n",
      "Epoch 47/200\n",
      "4/4 [==============================] - 0s 1ms/step - loss: 0.0061\n",
      "Epoch 48/200\n",
      "4/4 [==============================] - 0s 891us/step - loss: 0.0060\n",
      "Epoch 49/200\n",
      "4/4 [==============================] - 0s 1ms/step - loss: 0.0070\n",
      "Epoch 50/200\n",
      "4/4 [==============================] - 0s 1ms/step - loss: 0.0056\n",
      "Epoch 51/200\n",
      "4/4 [==============================] - 0s 861us/step - loss: 0.0068\n",
      "Epoch 52/200\n",
      "4/4 [==============================] - 0s 1ms/step - loss: 0.0052\n",
      "Epoch 53/200\n",
      "4/4 [==============================] - 0s 892us/step - loss: 0.0058\n",
      "Epoch 54/200\n",
      "4/4 [==============================] - 0s 775us/step - loss: 0.0064\n",
      "Epoch 55/200\n",
      "4/4 [==============================] - 0s 969us/step - loss: 0.0067\n",
      "Epoch 56/200\n",
      "4/4 [==============================] - 0s 1ms/step - loss: 0.0053\n",
      "Epoch 57/200\n",
      "4/4 [==============================] - 0s 956us/step - loss: 0.0055\n",
      "Epoch 58/200\n",
      "4/4 [==============================] - 0s 874us/step - loss: 0.0059\n",
      "Epoch 59/200\n",
      "4/4 [==============================] - 0s 931us/step - loss: 0.0059\n",
      "Epoch 60/200\n",
      "4/4 [==============================] - 0s 955us/step - loss: 0.0050\n",
      "Epoch 61/200\n",
      "4/4 [==============================] - 0s 984us/step - loss: 0.0050\n",
      "Epoch 62/200\n",
      "4/4 [==============================] - 0s 1ms/step - loss: 0.0053\n",
      "Epoch 63/200\n",
      "4/4 [==============================] - 0s 815us/step - loss: 0.0051\n",
      "Epoch 64/200\n",
      "4/4 [==============================] - 0s 779us/step - loss: 0.0055\n",
      "Epoch 65/200\n",
      "4/4 [==============================] - 0s 1ms/step - loss: 0.0061\n",
      "Epoch 66/200\n",
      "4/4 [==============================] - 0s 1ms/step - loss: 0.0065\n",
      "Epoch 67/200\n",
      "4/4 [==============================] - 0s 1ms/step - loss: 0.0051\n",
      "Epoch 68/200\n",
      "4/4 [==============================] - 0s 778us/step - loss: 0.0047\n",
      "Epoch 69/200\n",
      "4/4 [==============================] - 0s 905us/step - loss: 0.0062\n",
      "Epoch 70/200\n",
      "4/4 [==============================] - 0s 1ms/step - loss: 0.0054\n",
      "Epoch 71/200\n",
      "4/4 [==============================] - 0s 853us/step - loss: 0.0058\n",
      "Epoch 72/200\n",
      "4/4 [==============================] - 0s 2ms/step - loss: 0.0063\n",
      "Epoch 73/200\n",
      "4/4 [==============================] - 0s 1ms/step - loss: 0.0060\n",
      "Epoch 74/200\n",
      "4/4 [==============================] - 0s 1ms/step - loss: 0.0054\n",
      "Epoch 75/200\n",
      "4/4 [==============================] - 0s 850us/step - loss: 0.0054\n",
      "Epoch 76/200\n",
      "4/4 [==============================] - 0s 744us/step - loss: 0.0056\n",
      "Epoch 77/200\n",
      "4/4 [==============================] - 0s 934us/step - loss: 0.0062\n",
      "Epoch 78/200\n",
      "4/4 [==============================] - 0s 968us/step - loss: 0.0062\n",
      "Epoch 79/200\n",
      "4/4 [==============================] - 0s 725us/step - loss: 0.0048\n",
      "Epoch 80/200\n",
      "4/4 [==============================] - 0s 945us/step - loss: 0.0061\n",
      "Epoch 81/200\n",
      "4/4 [==============================] - 0s 1ms/step - loss: 0.0060\n",
      "Epoch 82/200\n",
      "4/4 [==============================] - 0s 955us/step - loss: 0.0054\n",
      "Epoch 83/200\n",
      "4/4 [==============================] - 0s 1ms/step - loss: 0.0054\n",
      "Epoch 84/200\n",
      "4/4 [==============================] - 0s 952us/step - loss: 0.0060\n",
      "Epoch 85/200\n",
      "4/4 [==============================] - 0s 960us/step - loss: 0.0054\n",
      "Epoch 86/200\n",
      "4/4 [==============================] - 0s 965us/step - loss: 0.0053\n",
      "Epoch 87/200\n",
      "4/4 [==============================] - 0s 904us/step - loss: 0.0064\n",
      "Epoch 88/200\n",
      "4/4 [==============================] - 0s 897us/step - loss: 0.0059\n",
      "Epoch 89/200\n",
      "4/4 [==============================] - 0s 1ms/step - loss: 0.0058\n",
      "Epoch 90/200\n",
      "4/4 [==============================] - 0s 875us/step - loss: 0.0065\n",
      "Epoch 91/200\n",
      "4/4 [==============================] - 0s 870us/step - loss: 0.0057\n",
      "Epoch 92/200\n",
      "4/4 [==============================] - 0s 883us/step - loss: 0.0058\n",
      "Epoch 93/200\n",
      "4/4 [==============================] - 0s 862us/step - loss: 0.0067\n",
      "Epoch 94/200\n",
      "4/4 [==============================] - 0s 822us/step - loss: 0.0063\n",
      "Epoch 95/200\n",
      "4/4 [==============================] - 0s 774us/step - loss: 0.0052\n",
      "Epoch 96/200\n",
      "4/4 [==============================] - 0s 745us/step - loss: 0.0061\n",
      "Epoch 97/200\n",
      "4/4 [==============================] - 0s 754us/step - loss: 0.0069\n",
      "Epoch 98/200\n",
      "4/4 [==============================] - 0s 889us/step - loss: 0.0050\n",
      "Epoch 99/200\n",
      "4/4 [==============================] - 0s 998us/step - loss: 0.0047\n",
      "Epoch 100/200\n",
      "4/4 [==============================] - 0s 1ms/step - loss: 0.0066\n",
      "Epoch 101/200\n",
      "4/4 [==============================] - 0s 1ms/step - loss: 0.0064\n",
      "Epoch 102/200\n",
      "4/4 [==============================] - 0s 936us/step - loss: 0.0058\n",
      "Epoch 103/200\n"
     ]
    },
    {
     "name": "stdout",
     "output_type": "stream",
     "text": [
      "4/4 [==============================] - 0s 974us/step - loss: 0.0060\n",
      "Epoch 104/200\n",
      "4/4 [==============================] - 0s 803us/step - loss: 0.0054\n",
      "Epoch 105/200\n",
      "4/4 [==============================] - 0s 797us/step - loss: 0.0051\n",
      "Epoch 106/200\n",
      "4/4 [==============================] - 0s 1ms/step - loss: 0.0058\n",
      "Epoch 107/200\n",
      "4/4 [==============================] - 0s 877us/step - loss: 0.0052\n",
      "Epoch 108/200\n",
      "4/4 [==============================] - 0s 854us/step - loss: 0.0061\n",
      "Epoch 109/200\n",
      "4/4 [==============================] - 0s 977us/step - loss: 0.0056\n",
      "Epoch 110/200\n",
      "4/4 [==============================] - 0s 802us/step - loss: 0.0054\n",
      "Epoch 111/200\n",
      "4/4 [==============================] - 0s 874us/step - loss: 0.0067\n",
      "Epoch 112/200\n",
      "4/4 [==============================] - 0s 887us/step - loss: 0.0058\n",
      "Epoch 113/200\n",
      "4/4 [==============================] - 0s 720us/step - loss: 0.0065\n",
      "Epoch 114/200\n",
      "4/4 [==============================] - 0s 1ms/step - loss: 0.0053\n",
      "Epoch 115/200\n",
      "4/4 [==============================] - 0s 983us/step - loss: 0.0062\n",
      "Epoch 116/200\n",
      "4/4 [==============================] - 0s 781us/step - loss: 0.0063\n",
      "Epoch 117/200\n",
      "4/4 [==============================] - 0s 1ms/step - loss: 0.0064\n",
      "Epoch 118/200\n",
      "4/4 [==============================] - 0s 992us/step - loss: 0.0056\n",
      "Epoch 119/200\n",
      "4/4 [==============================] - 0s 948us/step - loss: 0.0061\n",
      "Epoch 120/200\n",
      "4/4 [==============================] - 0s 890us/step - loss: 0.0055\n",
      "Epoch 121/200\n",
      "4/4 [==============================] - 0s 998us/step - loss: 0.0064\n",
      "Epoch 122/200\n",
      "4/4 [==============================] - 0s 854us/step - loss: 0.0068\n",
      "Epoch 123/200\n",
      "4/4 [==============================] - 0s 857us/step - loss: 0.0059\n",
      "Epoch 124/200\n",
      "4/4 [==============================] - 0s 784us/step - loss: 0.0058\n",
      "Epoch 125/200\n",
      "4/4 [==============================] - 0s 780us/step - loss: 0.0053\n",
      "Epoch 126/200\n",
      "4/4 [==============================] - 0s 801us/step - loss: 0.0058\n",
      "Epoch 127/200\n",
      "4/4 [==============================] - 0s 736us/step - loss: 0.0049\n",
      "Epoch 128/200\n",
      "4/4 [==============================] - 0s 854us/step - loss: 0.0057\n",
      "Epoch 129/200\n",
      "4/4 [==============================] - 0s 798us/step - loss: 0.0054\n",
      "Epoch 130/200\n",
      "4/4 [==============================] - 0s 1ms/step - loss: 0.0053\n",
      "Epoch 131/200\n",
      "4/4 [==============================] - 0s 802us/step - loss: 0.0059\n",
      "Epoch 132/200\n",
      "4/4 [==============================] - 0s 843us/step - loss: 0.0054\n",
      "Epoch 133/200\n",
      "4/4 [==============================] - 0s 870us/step - loss: 0.0054\n",
      "Epoch 134/200\n",
      "4/4 [==============================] - 0s 910us/step - loss: 0.0056\n",
      "Epoch 135/200\n",
      "4/4 [==============================] - 0s 762us/step - loss: 0.0056\n",
      "Epoch 136/200\n",
      "4/4 [==============================] - 0s 976us/step - loss: 0.0063\n",
      "Epoch 137/200\n",
      "4/4 [==============================] - 0s 842us/step - loss: 0.0061\n",
      "Epoch 138/200\n",
      "4/4 [==============================] - 0s 798us/step - loss: 0.0053\n",
      "Epoch 139/200\n",
      "4/4 [==============================] - 0s 932us/step - loss: 0.0065\n",
      "Epoch 140/200\n",
      "4/4 [==============================] - 0s 801us/step - loss: 0.0067\n",
      "Epoch 141/200\n",
      "4/4 [==============================] - 0s 998us/step - loss: 0.0052\n",
      "Epoch 142/200\n",
      "4/4 [==============================] - 0s 820us/step - loss: 0.0056\n",
      "Epoch 143/200\n",
      "4/4 [==============================] - 0s 740us/step - loss: 0.0059\n",
      "Epoch 144/200\n",
      "4/4 [==============================] - 0s 1ms/step - loss: 0.0056\n",
      "Epoch 145/200\n",
      "4/4 [==============================] - 0s 1ms/step - loss: 0.0052\n",
      "Epoch 146/200\n",
      "4/4 [==============================] - 0s 892us/step - loss: 0.0061\n",
      "Epoch 147/200\n",
      "4/4 [==============================] - 0s 920us/step - loss: 0.0063\n",
      "Epoch 148/200\n",
      "4/4 [==============================] - 0s 841us/step - loss: 0.0053\n",
      "Epoch 149/200\n",
      "4/4 [==============================] - 0s 844us/step - loss: 0.0056\n",
      "Epoch 150/200\n",
      "4/4 [==============================] - 0s 910us/step - loss: 0.0056\n",
      "Epoch 151/200\n",
      "4/4 [==============================] - 0s 837us/step - loss: 0.0059\n",
      "Epoch 152/200\n",
      "4/4 [==============================] - 0s 1ms/step - loss: 0.0062\n",
      "Epoch 153/200\n",
      "4/4 [==============================] - 0s 862us/step - loss: 0.0060\n",
      "Epoch 154/200\n",
      "4/4 [==============================] - 0s 1ms/step - loss: 0.0050\n",
      "Epoch 155/200\n",
      "4/4 [==============================] - 0s 1ms/step - loss: 0.0061\n",
      "Epoch 156/200\n",
      "4/4 [==============================] - 0s 1ms/step - loss: 0.0063\n",
      "Epoch 157/200\n",
      "4/4 [==============================] - 0s 2ms/step - loss: 0.0058\n",
      "Epoch 158/200\n",
      "4/4 [==============================] - 0s 1ms/step - loss: 0.0057\n",
      "Epoch 159/200\n",
      "4/4 [==============================] - 0s 897us/step - loss: 0.0059\n",
      "Epoch 160/200\n",
      "4/4 [==============================] - 0s 830us/step - loss: 0.0051\n",
      "Epoch 161/200\n",
      "4/4 [==============================] - 0s 830us/step - loss: 0.0058\n",
      "Epoch 162/200\n",
      "4/4 [==============================] - 0s 813us/step - loss: 0.0056\n",
      "Epoch 163/200\n",
      "4/4 [==============================] - 0s 943us/step - loss: 0.0055\n",
      "Epoch 164/200\n",
      "4/4 [==============================] - 0s 790us/step - loss: 0.0060\n",
      "Epoch 165/200\n",
      "4/4 [==============================] - 0s 887us/step - loss: 0.0057\n",
      "Epoch 166/200\n",
      "4/4 [==============================] - 0s 1ms/step - loss: 0.0065\n",
      "Epoch 167/200\n",
      "4/4 [==============================] - 0s 797us/step - loss: 0.0055\n",
      "Epoch 168/200\n",
      "4/4 [==============================] - 0s 752us/step - loss: 0.0053\n",
      "Epoch 169/200\n",
      "4/4 [==============================] - 0s 857us/step - loss: 0.0065\n",
      "Epoch 170/200\n",
      "4/4 [==============================] - 0s 827us/step - loss: 0.0056\n",
      "Epoch 171/200\n",
      "4/4 [==============================] - 0s 1ms/step - loss: 0.0051\n",
      "Epoch 172/200\n",
      "4/4 [==============================] - 0s 981us/step - loss: 0.0065\n",
      "Epoch 173/200\n",
      "4/4 [==============================] - 0s 1ms/step - loss: 0.0052\n",
      "Epoch 174/200\n",
      "4/4 [==============================] - 0s 933us/step - loss: 0.0055\n",
      "Epoch 175/200\n",
      "4/4 [==============================] - 0s 884us/step - loss: 0.0061\n",
      "Epoch 176/200\n",
      "4/4 [==============================] - 0s 758us/step - loss: 0.0058\n",
      "Epoch 177/200\n",
      "4/4 [==============================] - 0s 1ms/step - loss: 0.0052\n",
      "Epoch 178/200\n",
      "4/4 [==============================] - 0s 997us/step - loss: 0.0054\n",
      "Epoch 179/200\n",
      "4/4 [==============================] - 0s 848us/step - loss: 0.0050\n",
      "Epoch 180/200\n",
      "4/4 [==============================] - 0s 973us/step - loss: 0.0057\n",
      "Epoch 181/200\n",
      "4/4 [==============================] - 0s 855us/step - loss: 0.0054\n",
      "Epoch 182/200\n",
      "4/4 [==============================] - 0s 860us/step - loss: 0.0064\n",
      "Epoch 183/200\n",
      "4/4 [==============================] - 0s 922us/step - loss: 0.0067\n",
      "Epoch 184/200\n",
      "4/4 [==============================] - 0s 1ms/step - loss: 0.0059\n",
      "Epoch 185/200\n",
      "4/4 [==============================] - 0s 821us/step - loss: 0.0055\n",
      "Epoch 186/200\n",
      "4/4 [==============================] - 0s 905us/step - loss: 0.0053\n",
      "Epoch 187/200\n",
      "4/4 [==============================] - 0s 806us/step - loss: 0.0052\n",
      "Epoch 188/200\n",
      "4/4 [==============================] - 0s 1ms/step - loss: 0.0057\n",
      "Epoch 189/200\n",
      "4/4 [==============================] - 0s 941us/step - loss: 0.0067\n",
      "Epoch 190/200\n",
      "4/4 [==============================] - 0s 867us/step - loss: 0.0052\n",
      "Epoch 191/200\n",
      "4/4 [==============================] - 0s 926us/step - loss: 0.0058\n",
      "Epoch 192/200\n",
      "4/4 [==============================] - 0s 898us/step - loss: 0.0060\n",
      "Epoch 193/200\n",
      "4/4 [==============================] - 0s 1ms/step - loss: 0.0064\n",
      "Epoch 194/200\n",
      "4/4 [==============================] - 0s 1ms/step - loss: 0.0052\n",
      "Epoch 195/200\n",
      "4/4 [==============================] - 0s 1ms/step - loss: 0.0051\n",
      "Epoch 196/200\n",
      "4/4 [==============================] - 0s 992us/step - loss: 0.0056\n",
      "Epoch 197/200\n",
      "4/4 [==============================] - 0s 970us/step - loss: 0.0052\n",
      "Epoch 198/200\n",
      "4/4 [==============================] - 0s 843us/step - loss: 0.0067\n",
      "Epoch 199/200\n",
      "4/4 [==============================] - 0s 900us/step - loss: 0.0049\n",
      "Epoch 200/200\n",
      "4/4 [==============================] - 0s 966us/step - loss: 0.0066\n"
     ]
    }
   ],
   "source": [
    "# create TF model\n",
    "model = tf.keras.models.Sequential([\n",
    "    tf.keras.layers.Input(shape=(1,)),\n",
    "    tf.keras.layers.Dense(1)\n",
    "])\n",
    "\n",
    "model.compile(optimizer=tf.keras.optimizers.SGD(0.001, 0.9), \n",
    "              loss='mse')\n",
    "\n",
    "# learning rate scheduler\n",
    "def schedule(epoch, learning_rate):\n",
    "    if epoch >= 50:\n",
    "        return 0.0001\n",
    "    return 0.001\n",
    "\n",
    "scheduler = tf.keras.callbacks.LearningRateScheduler(schedule)\n",
    "\n",
    "# train the model\n",
    "r = model.fit(X, Y, epochs=200, callbacks=[scheduler])"
   ]
  },
  {
   "cell_type": "code",
   "execution_count": 28,
   "metadata": {},
   "outputs": [
    {
     "data": {
      "text/plain": [
       "<matplotlib.legend.Legend at 0x7f00f4efaf10>"
      ]
     },
     "execution_count": 28,
     "metadata": {},
     "output_type": "execute_result"
    },
    {
     "data": {
      "image/png": "[encoded data removed]",
      "text/plain": [
       "<Figure size 432x288 with 1 Axes>"
      ]
     },
     "metadata": {
      "needs_background": "light"
     },
     "output_type": "display_data"
    }
   ],
   "source": [
    "# plot the loss\n",
    "plt.plot(r.history['loss'], label='loss')\n",
    "plt.legend()"
   ]
  },
  {
   "cell_type": "code",
   "execution_count": 31,
   "metadata": {},
   "outputs": [
    {
     "name": "stdout",
     "output_type": "stream",
     "text": [
      "[<tensorflow.python.keras.layers.core.Dense object at 0x7f013c415fd0>]\n",
      "[array([[0.02392721]], dtype=float32), array([2.7138727], dtype=float32)]\n"
     ]
    }
   ],
   "source": [
    "print(model.layers)\n",
    "print(model.layers[0].get_weights())"
   ]
  },
  {
   "cell_type": "code",
   "execution_count": 32,
   "metadata": {},
   "outputs": [
    {
     "name": "stdout",
     "output_type": "stream",
     "text": [
      "0.02415128506832385 2.7180045335165413\n",
      "Time to double: 28.70021941271596\n"
     ]
    }
   ],
   "source": [
    "X = np.array(X).flatten()\n",
    "Y = np.array(Y)\n",
    "denominator = X.dot(X) - X.mean() * X.sum()\n",
    "a = ( X.dot(Y) - Y.mean()*X.sum() ) / denominator\n",
    "b = ( Y.mean() * X.dot(X) - X.mean() * X.dot(Y) ) / denominator\n",
    "print(a, b)\n",
    "print(\"Time to double:\", np.log(2) / a)"
   ]
  },
  {
   "cell_type": "code",
   "execution_count": 42,
   "metadata": {},
   "outputs": [
    {
     "data": {
      "text/plain": [
       "[<matplotlib.lines.Line2D at 0x7f00f4574fa0>]"
      ]
     },
     "execution_count": 42,
     "metadata": {},
     "output_type": "execute_result"
    },
    {
     "data": {
      "image/png": "[encoded data removed]",
      "text/plain": [
       "<Figure size 432x288 with 1 Axes>"
      ]
     },
     "metadata": {
      "needs_background": "light"
     },
     "output_type": "display_data"
    }
   ],
   "source": [
    "# making predictions\n",
    "Yhat = model.predict(X).flatten()\n",
    "plt.scatter(X, Y)\n",
    "plt.plot(X, Yhat)"
   ]
  },
  {
   "cell_type": "code",
   "execution_count": null,
   "metadata": {},
   "outputs": [],
   "source": []
  },
  {
   "cell_type": "code",
   "execution_count": null,
   "metadata": {},
   "outputs": [],
   "source": []
  }
 ],
 "metadata": {
  "kernelspec": {
   "display_name": "Python 3",
   "language": "python",
   "name": "python3"
  },
  "language_info": {
   "codemirror_mode": {
    "name": "ipython",
    "version": 3
   },
   "file_extension": ".py",
   "mimetype": "text/x-python",
   "name": "python",
   "nbconvert_exporter": "python",
   "pygments_lexer": "ipython3",
   "version": "3.8.6"
  }
 },
 "nbformat": 4,
 "nbformat_minor": 4
}
