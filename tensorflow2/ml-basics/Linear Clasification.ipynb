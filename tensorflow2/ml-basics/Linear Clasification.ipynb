{
 "cells": [
  {
   "cell_type": "code",
   "execution_count": 19,
   "metadata": {},
   "outputs": [],
   "source": [
    "import numpy as np\n",
    "import tensorflow as tf\n",
    "from sklearn.datasets import load_breast_cancer\n",
    "from sklearn.model_selection import train_test_split\n",
    "from sklearn.preprocessing import StandardScaler\n",
    "import matplotlib.pyplot as plt"
   ]
  },
  {
   "cell_type": "code",
   "execution_count": 2,
   "metadata": {},
   "outputs": [],
   "source": [
    "# load data\n",
    "data = load_breast_cancer()"
   ]
  },
  {
   "cell_type": "code",
   "execution_count": 3,
   "metadata": {},
   "outputs": [
    {
     "data": {
      "text/plain": [
       "sklearn.utils.Bunch"
      ]
     },
     "execution_count": 3,
     "metadata": {},
     "output_type": "execute_result"
    }
   ],
   "source": [
    "# check data type\n",
    "type(data)"
   ]
  },
  {
   "cell_type": "code",
   "execution_count": 4,
   "metadata": {},
   "outputs": [
    {
     "data": {
      "text/plain": [
       "dict_keys(['data', 'target', 'frame', 'target_names', 'DESCR', 'feature_names', 'filename'])"
      ]
     },
     "execution_count": 4,
     "metadata": {},
     "output_type": "execute_result"
    }
   ],
   "source": [
    "data.keys()"
   ]
  },
  {
   "cell_type": "code",
   "execution_count": 5,
   "metadata": {},
   "outputs": [
    {
     "data": {
      "text/plain": [
       "(569, 30)"
      ]
     },
     "execution_count": 5,
     "metadata": {},
     "output_type": "execute_result"
    }
   ],
   "source": [
    "# check the shape ot 'data'\n",
    "data.data.shape"
   ]
  },
  {
   "cell_type": "code",
   "execution_count": 6,
   "metadata": {},
   "outputs": [
    {
     "data": {
      "text/plain": [
       "(569,)"
      ]
     },
     "execution_count": 6,
     "metadata": {},
     "output_type": "execute_result"
    }
   ],
   "source": [
    "data.target.shape"
   ]
  },
  {
   "cell_type": "code",
   "execution_count": 7,
   "metadata": {},
   "outputs": [
    {
     "data": {
      "text/plain": [
       "array(['malignant', 'benign'], dtype='<U9')"
      ]
     },
     "execution_count": 7,
     "metadata": {},
     "output_type": "execute_result"
    }
   ],
   "source": [
    "data.target_names"
   ]
  },
  {
   "cell_type": "code",
   "execution_count": 8,
   "metadata": {},
   "outputs": [
    {
     "data": {
      "text/plain": [
       "array(['mean radius', 'mean texture', 'mean perimeter', 'mean area',\n",
       "       'mean smoothness', 'mean compactness', 'mean concavity',\n",
       "       'mean concave points', 'mean symmetry', 'mean fractal dimension',\n",
       "       'radius error', 'texture error', 'perimeter error', 'area error',\n",
       "       'smoothness error', 'compactness error', 'concavity error',\n",
       "       'concave points error', 'symmetry error',\n",
       "       'fractal dimension error', 'worst radius', 'worst texture',\n",
       "       'worst perimeter', 'worst area', 'worst smoothness',\n",
       "       'worst compactness', 'worst concavity', 'worst concave points',\n",
       "       'worst symmetry', 'worst fractal dimension'], dtype='<U23')"
      ]
     },
     "execution_count": 8,
     "metadata": {},
     "output_type": "execute_result"
    }
   ],
   "source": [
    "data.feature_names"
   ]
  },
  {
   "cell_type": "code",
   "execution_count": 9,
   "metadata": {},
   "outputs": [],
   "source": [
    "# split data\n",
    "X_train, X_test, y_train, y_test = train_test_split(data.data, data.target, test_size=0.3)\n",
    "N, D = X_train.shape"
   ]
  },
  {
   "cell_type": "code",
   "execution_count": 10,
   "metadata": {},
   "outputs": [],
   "source": [
    "# scale the data\n",
    "scaler = StandardScaler()\n",
    "X_train = scaler.fit_transform(X_train)\n",
    "X_test = scaler.fit_transform(X_test)"
   ]
  },
  {
   "cell_type": "code",
   "execution_count": 11,
   "metadata": {},
   "outputs": [],
   "source": [
    "# init model\n",
    "model = tf.keras.models.Sequential([\n",
    "  tf.keras.layers.Input(shape=(D,)),\n",
    "  tf.keras.layers.Dense(1, activation='sigmoid')\n",
    "])"
   ]
  },
  {
   "cell_type": "code",
   "execution_count": 12,
   "metadata": {},
   "outputs": [],
   "source": [
    "model.compile(optimizer='adam',\n",
    "              loss='binary_crossentropy',\n",
    "              metrics=['accuracy'])"
   ]
  },
  {
   "cell_type": "code",
   "execution_count": 13,
   "metadata": {},
   "outputs": [
    {
     "name": "stdout",
     "output_type": "stream",
     "text": [
      "Epoch 1/100\n",
      "13/13 [==============================] - 1s 26ms/step - loss: 1.9283 - accuracy: 0.1959 - val_loss: 1.7279 - val_accuracy: 0.2339\n",
      "Epoch 2/100\n",
      "13/13 [==============================] - 0s 3ms/step - loss: 1.7395 - accuracy: 0.2081 - val_loss: 1.5861 - val_accuracy: 0.2573\n",
      "Epoch 3/100\n",
      "13/13 [==============================] - 0s 3ms/step - loss: 1.7491 - accuracy: 0.2018 - val_loss: 1.4501 - val_accuracy: 0.2749\n",
      "Epoch 4/100\n",
      "13/13 [==============================] - 0s 3ms/step - loss: 1.4884 - accuracy: 0.2267 - val_loss: 1.3239 - val_accuracy: 0.2982\n",
      "Epoch 5/100\n",
      "13/13 [==============================] - 0s 3ms/step - loss: 1.3997 - accuracy: 0.2912 - val_loss: 1.2037 - val_accuracy: 0.3158\n",
      "Epoch 6/100\n",
      "13/13 [==============================] - 0s 3ms/step - loss: 1.1794 - accuracy: 0.3200 - val_loss: 1.0943 - val_accuracy: 0.3509\n",
      "Epoch 7/100\n",
      "13/13 [==============================] - 0s 4ms/step - loss: 1.1153 - accuracy: 0.3381 - val_loss: 0.9921 - val_accuracy: 0.3918\n",
      "Epoch 8/100\n",
      "13/13 [==============================] - 0s 4ms/step - loss: 0.9805 - accuracy: 0.4089 - val_loss: 0.9014 - val_accuracy: 0.4444\n",
      "Epoch 9/100\n",
      "13/13 [==============================] - 0s 3ms/step - loss: 0.9455 - accuracy: 0.4063 - val_loss: 0.8182 - val_accuracy: 0.4971\n",
      "Epoch 10/100\n",
      "13/13 [==============================] - 0s 4ms/step - loss: 0.8036 - accuracy: 0.4940 - val_loss: 0.7490 - val_accuracy: 0.5380\n",
      "Epoch 11/100\n",
      "13/13 [==============================] - 0s 3ms/step - loss: 0.7647 - accuracy: 0.5278 - val_loss: 0.6863 - val_accuracy: 0.5731\n",
      "Epoch 12/100\n",
      "13/13 [==============================] - 0s 3ms/step - loss: 0.7100 - accuracy: 0.5653 - val_loss: 0.6314 - val_accuracy: 0.6550\n",
      "Epoch 13/100\n",
      "13/13 [==============================] - 0s 3ms/step - loss: 0.6221 - accuracy: 0.6830 - val_loss: 0.5845 - val_accuracy: 0.7135\n",
      "Epoch 14/100\n",
      "13/13 [==============================] - 0s 3ms/step - loss: 0.5842 - accuracy: 0.7210 - val_loss: 0.5423 - val_accuracy: 0.7544\n",
      "Epoch 15/100\n",
      "13/13 [==============================] - 0s 3ms/step - loss: 0.5394 - accuracy: 0.7609 - val_loss: 0.5066 - val_accuracy: 0.7836\n",
      "Epoch 16/100\n",
      "13/13 [==============================] - 0s 3ms/step - loss: 0.5152 - accuracy: 0.7534 - val_loss: 0.4752 - val_accuracy: 0.8187\n",
      "Epoch 17/100\n",
      "13/13 [==============================] - 0s 3ms/step - loss: 0.4948 - accuracy: 0.7898 - val_loss: 0.4469 - val_accuracy: 0.8480\n",
      "Epoch 18/100\n",
      "13/13 [==============================] - 0s 3ms/step - loss: 0.4265 - accuracy: 0.8642 - val_loss: 0.4225 - val_accuracy: 0.8538\n",
      "Epoch 19/100\n",
      "13/13 [==============================] - 0s 3ms/step - loss: 0.4124 - accuracy: 0.8652 - val_loss: 0.4018 - val_accuracy: 0.8713\n",
      "Epoch 20/100\n",
      "13/13 [==============================] - 0s 3ms/step - loss: 0.3902 - accuracy: 0.8678 - val_loss: 0.3823 - val_accuracy: 0.8772\n",
      "Epoch 21/100\n",
      "13/13 [==============================] - 0s 4ms/step - loss: 0.3762 - accuracy: 0.8785 - val_loss: 0.3654 - val_accuracy: 0.8947\n",
      "Epoch 22/100\n",
      "13/13 [==============================] - 0s 4ms/step - loss: 0.3555 - accuracy: 0.8851 - val_loss: 0.3501 - val_accuracy: 0.8947\n",
      "Epoch 23/100\n",
      "13/13 [==============================] - 0s 3ms/step - loss: 0.3328 - accuracy: 0.8924 - val_loss: 0.3360 - val_accuracy: 0.9006\n",
      "Epoch 24/100\n",
      "13/13 [==============================] - 0s 4ms/step - loss: 0.3387 - accuracy: 0.8631 - val_loss: 0.3233 - val_accuracy: 0.9006\n",
      "Epoch 25/100\n",
      "13/13 [==============================] - 0s 3ms/step - loss: 0.3160 - accuracy: 0.9035 - val_loss: 0.3118 - val_accuracy: 0.9123\n",
      "Epoch 26/100\n",
      "13/13 [==============================] - 0s 3ms/step - loss: 0.2930 - accuracy: 0.9079 - val_loss: 0.3013 - val_accuracy: 0.9298\n",
      "Epoch 27/100\n",
      "13/13 [==============================] - 0s 3ms/step - loss: 0.2814 - accuracy: 0.9177 - val_loss: 0.2918 - val_accuracy: 0.9298\n",
      "Epoch 28/100\n",
      "13/13 [==============================] - 0s 3ms/step - loss: 0.2787 - accuracy: 0.9077 - val_loss: 0.2831 - val_accuracy: 0.9357\n",
      "Epoch 29/100\n",
      "13/13 [==============================] - 0s 3ms/step - loss: 0.2791 - accuracy: 0.9009 - val_loss: 0.2753 - val_accuracy: 0.9357\n",
      "Epoch 30/100\n",
      "13/13 [==============================] - 0s 3ms/step - loss: 0.2593 - accuracy: 0.9262 - val_loss: 0.2678 - val_accuracy: 0.9357\n",
      "Epoch 31/100\n",
      "13/13 [==============================] - 0s 4ms/step - loss: 0.2578 - accuracy: 0.9235 - val_loss: 0.2611 - val_accuracy: 0.9357\n",
      "Epoch 32/100\n",
      "13/13 [==============================] - 0s 3ms/step - loss: 0.2570 - accuracy: 0.9044 - val_loss: 0.2549 - val_accuracy: 0.9357\n",
      "Epoch 33/100\n",
      "13/13 [==============================] - 0s 4ms/step - loss: 0.2399 - accuracy: 0.9280 - val_loss: 0.2488 - val_accuracy: 0.9474\n",
      "Epoch 34/100\n",
      "13/13 [==============================] - 0s 3ms/step - loss: 0.2384 - accuracy: 0.9217 - val_loss: 0.2432 - val_accuracy: 0.9474\n",
      "Epoch 35/100\n",
      "13/13 [==============================] - 0s 4ms/step - loss: 0.2368 - accuracy: 0.9305 - val_loss: 0.2381 - val_accuracy: 0.9532\n",
      "Epoch 36/100\n",
      "13/13 [==============================] - 0s 3ms/step - loss: 0.2166 - accuracy: 0.9344 - val_loss: 0.2333 - val_accuracy: 0.9532\n",
      "Epoch 37/100\n",
      "13/13 [==============================] - 0s 3ms/step - loss: 0.2121 - accuracy: 0.9392 - val_loss: 0.2288 - val_accuracy: 0.9532\n",
      "Epoch 38/100\n",
      "13/13 [==============================] - 0s 3ms/step - loss: 0.2230 - accuracy: 0.9351 - val_loss: 0.2245 - val_accuracy: 0.9532\n",
      "Epoch 39/100\n",
      "13/13 [==============================] - 0s 3ms/step - loss: 0.2203 - accuracy: 0.9325 - val_loss: 0.2205 - val_accuracy: 0.9474\n",
      "Epoch 40/100\n",
      "13/13 [==============================] - 0s 3ms/step - loss: 0.2155 - accuracy: 0.9255 - val_loss: 0.2168 - val_accuracy: 0.9532\n",
      "Epoch 41/100\n",
      "13/13 [==============================] - 0s 3ms/step - loss: 0.2180 - accuracy: 0.9259 - val_loss: 0.2131 - val_accuracy: 0.9532\n",
      "Epoch 42/100\n",
      "13/13 [==============================] - 0s 3ms/step - loss: 0.2077 - accuracy: 0.9354 - val_loss: 0.2096 - val_accuracy: 0.9532\n",
      "Epoch 43/100\n",
      "13/13 [==============================] - 0s 3ms/step - loss: 0.1907 - accuracy: 0.9489 - val_loss: 0.2064 - val_accuracy: 0.9532\n",
      "Epoch 44/100\n",
      "13/13 [==============================] - 0s 3ms/step - loss: 0.2091 - accuracy: 0.9313 - val_loss: 0.2032 - val_accuracy: 0.9532\n",
      "Epoch 45/100\n",
      "13/13 [==============================] - 0s 3ms/step - loss: 0.1887 - accuracy: 0.9419 - val_loss: 0.2003 - val_accuracy: 0.9532\n",
      "Epoch 46/100\n",
      "13/13 [==============================] - 0s 3ms/step - loss: 0.1887 - accuracy: 0.9532 - val_loss: 0.1974 - val_accuracy: 0.9532\n",
      "Epoch 47/100\n",
      "13/13 [==============================] - 0s 3ms/step - loss: 0.1963 - accuracy: 0.9491 - val_loss: 0.1947 - val_accuracy: 0.9532\n",
      "Epoch 48/100\n",
      "13/13 [==============================] - 0s 3ms/step - loss: 0.1850 - accuracy: 0.9481 - val_loss: 0.1921 - val_accuracy: 0.9591\n",
      "Epoch 49/100\n",
      "13/13 [==============================] - 0s 3ms/step - loss: 0.1762 - accuracy: 0.9493 - val_loss: 0.1897 - val_accuracy: 0.9591\n",
      "Epoch 50/100\n",
      "13/13 [==============================] - 0s 3ms/step - loss: 0.1709 - accuracy: 0.9532 - val_loss: 0.1874 - val_accuracy: 0.9591\n",
      "Epoch 51/100\n",
      "13/13 [==============================] - 0s 3ms/step - loss: 0.1843 - accuracy: 0.9460 - val_loss: 0.1851 - val_accuracy: 0.9591\n",
      "Epoch 52/100\n",
      "13/13 [==============================] - 0s 3ms/step - loss: 0.1456 - accuracy: 0.9606 - val_loss: 0.1830 - val_accuracy: 0.9591\n",
      "Epoch 53/100\n",
      "13/13 [==============================] - 0s 3ms/step - loss: 0.1782 - accuracy: 0.9471 - val_loss: 0.1809 - val_accuracy: 0.9591\n",
      "Epoch 54/100\n",
      "13/13 [==============================] - 0s 3ms/step - loss: 0.1703 - accuracy: 0.9403 - val_loss: 0.1789 - val_accuracy: 0.9591\n",
      "Epoch 55/100\n",
      "13/13 [==============================] - 0s 3ms/step - loss: 0.1537 - accuracy: 0.9639 - val_loss: 0.1769 - val_accuracy: 0.9591\n",
      "Epoch 56/100\n",
      "13/13 [==============================] - 0s 3ms/step - loss: 0.1560 - accuracy: 0.9427 - val_loss: 0.1751 - val_accuracy: 0.9591\n",
      "Epoch 57/100\n",
      "13/13 [==============================] - 0s 3ms/step - loss: 0.1685 - accuracy: 0.9412 - val_loss: 0.1732 - val_accuracy: 0.9649\n",
      "Epoch 58/100\n",
      "13/13 [==============================] - 0s 3ms/step - loss: 0.1586 - accuracy: 0.9430 - val_loss: 0.1715 - val_accuracy: 0.9649\n"
     ]
    },
    {
     "name": "stdout",
     "output_type": "stream",
     "text": [
      "Epoch 59/100\n",
      "13/13 [==============================] - 0s 3ms/step - loss: 0.1498 - accuracy: 0.9578 - val_loss: 0.1698 - val_accuracy: 0.9649\n",
      "Epoch 60/100\n",
      "13/13 [==============================] - 0s 3ms/step - loss: 0.1557 - accuracy: 0.9535 - val_loss: 0.1682 - val_accuracy: 0.9649\n",
      "Epoch 61/100\n",
      "13/13 [==============================] - 0s 3ms/step - loss: 0.1605 - accuracy: 0.9428 - val_loss: 0.1666 - val_accuracy: 0.9649\n",
      "Epoch 62/100\n",
      "13/13 [==============================] - 0s 3ms/step - loss: 0.1454 - accuracy: 0.9549 - val_loss: 0.1651 - val_accuracy: 0.9649\n",
      "Epoch 63/100\n",
      "13/13 [==============================] - 0s 3ms/step - loss: 0.1350 - accuracy: 0.9675 - val_loss: 0.1636 - val_accuracy: 0.9649\n",
      "Epoch 64/100\n",
      "13/13 [==============================] - 0s 3ms/step - loss: 0.1397 - accuracy: 0.9618 - val_loss: 0.1622 - val_accuracy: 0.9649\n",
      "Epoch 65/100\n",
      "13/13 [==============================] - 0s 3ms/step - loss: 0.1456 - accuracy: 0.9578 - val_loss: 0.1608 - val_accuracy: 0.9649\n",
      "Epoch 66/100\n",
      "13/13 [==============================] - 0s 3ms/step - loss: 0.1314 - accuracy: 0.9606 - val_loss: 0.1595 - val_accuracy: 0.9649\n",
      "Epoch 67/100\n",
      "13/13 [==============================] - 0s 3ms/step - loss: 0.1408 - accuracy: 0.9580 - val_loss: 0.1581 - val_accuracy: 0.9649\n",
      "Epoch 68/100\n",
      "13/13 [==============================] - 0s 3ms/step - loss: 0.1461 - accuracy: 0.9562 - val_loss: 0.1569 - val_accuracy: 0.9649\n",
      "Epoch 69/100\n",
      "13/13 [==============================] - 0s 3ms/step - loss: 0.1359 - accuracy: 0.9615 - val_loss: 0.1557 - val_accuracy: 0.9708\n",
      "Epoch 70/100\n",
      "13/13 [==============================] - 0s 3ms/step - loss: 0.1285 - accuracy: 0.9707 - val_loss: 0.1545 - val_accuracy: 0.9708\n",
      "Epoch 71/100\n",
      "13/13 [==============================] - 0s 3ms/step - loss: 0.1345 - accuracy: 0.9550 - val_loss: 0.1533 - val_accuracy: 0.9708\n",
      "Epoch 72/100\n",
      "13/13 [==============================] - 0s 3ms/step - loss: 0.1431 - accuracy: 0.9568 - val_loss: 0.1522 - val_accuracy: 0.9708\n",
      "Epoch 73/100\n",
      "13/13 [==============================] - 0s 3ms/step - loss: 0.1355 - accuracy: 0.9634 - val_loss: 0.1511 - val_accuracy: 0.9708\n",
      "Epoch 74/100\n",
      "13/13 [==============================] - 0s 3ms/step - loss: 0.1245 - accuracy: 0.9674 - val_loss: 0.1501 - val_accuracy: 0.9708\n",
      "Epoch 75/100\n",
      "13/13 [==============================] - 0s 3ms/step - loss: 0.1309 - accuracy: 0.9593 - val_loss: 0.1490 - val_accuracy: 0.9708\n",
      "Epoch 76/100\n",
      "13/13 [==============================] - 0s 3ms/step - loss: 0.1351 - accuracy: 0.9612 - val_loss: 0.1480 - val_accuracy: 0.9708\n",
      "Epoch 77/100\n",
      "13/13 [==============================] - 0s 3ms/step - loss: 0.1377 - accuracy: 0.9639 - val_loss: 0.1469 - val_accuracy: 0.9708\n",
      "Epoch 78/100\n",
      "13/13 [==============================] - 0s 3ms/step - loss: 0.1283 - accuracy: 0.9713 - val_loss: 0.1460 - val_accuracy: 0.9708\n",
      "Epoch 79/100\n",
      "13/13 [==============================] - 0s 3ms/step - loss: 0.1262 - accuracy: 0.9713 - val_loss: 0.1450 - val_accuracy: 0.9708\n",
      "Epoch 80/100\n",
      "13/13 [==============================] - 0s 3ms/step - loss: 0.1215 - accuracy: 0.9629 - val_loss: 0.1441 - val_accuracy: 0.9708\n",
      "Epoch 81/100\n",
      "13/13 [==============================] - 0s 3ms/step - loss: 0.1174 - accuracy: 0.9807 - val_loss: 0.1433 - val_accuracy: 0.9708\n",
      "Epoch 82/100\n",
      "13/13 [==============================] - 0s 3ms/step - loss: 0.1336 - accuracy: 0.9619 - val_loss: 0.1424 - val_accuracy: 0.9708\n",
      "Epoch 83/100\n",
      "13/13 [==============================] - 0s 3ms/step - loss: 0.1132 - accuracy: 0.9732 - val_loss: 0.1416 - val_accuracy: 0.9708\n",
      "Epoch 84/100\n",
      "13/13 [==============================] - ETA: 0s - loss: 0.1105 - accuracy: 0.96 - 0s 3ms/step - loss: 0.1098 - accuracy: 0.9701 - val_loss: 0.1408 - val_accuracy: 0.9708\n",
      "Epoch 85/100\n",
      "13/13 [==============================] - 0s 3ms/step - loss: 0.1149 - accuracy: 0.9709 - val_loss: 0.1399 - val_accuracy: 0.9708\n",
      "Epoch 86/100\n",
      "13/13 [==============================] - 0s 3ms/step - loss: 0.1173 - accuracy: 0.9683 - val_loss: 0.1391 - val_accuracy: 0.9708\n",
      "Epoch 87/100\n",
      "13/13 [==============================] - 0s 3ms/step - loss: 0.1173 - accuracy: 0.9645 - val_loss: 0.1383 - val_accuracy: 0.9708\n",
      "Epoch 88/100\n",
      "13/13 [==============================] - 0s 3ms/step - loss: 0.1180 - accuracy: 0.9726 - val_loss: 0.1375 - val_accuracy: 0.9708\n",
      "Epoch 89/100\n",
      "13/13 [==============================] - 0s 3ms/step - loss: 0.1142 - accuracy: 0.9834 - val_loss: 0.1368 - val_accuracy: 0.9708\n",
      "Epoch 90/100\n",
      "13/13 [==============================] - 0s 3ms/step - loss: 0.1219 - accuracy: 0.9730 - val_loss: 0.1360 - val_accuracy: 0.9708\n",
      "Epoch 91/100\n",
      "13/13 [==============================] - 0s 3ms/step - loss: 0.1174 - accuracy: 0.9730 - val_loss: 0.1353 - val_accuracy: 0.9708\n",
      "Epoch 92/100\n",
      "13/13 [==============================] - 0s 3ms/step - loss: 0.1005 - accuracy: 0.9806 - val_loss: 0.1347 - val_accuracy: 0.9708\n",
      "Epoch 93/100\n",
      "13/13 [==============================] - 0s 3ms/step - loss: 0.1168 - accuracy: 0.9688 - val_loss: 0.1340 - val_accuracy: 0.9708\n",
      "Epoch 94/100\n",
      "13/13 [==============================] - 0s 3ms/step - loss: 0.1178 - accuracy: 0.9586 - val_loss: 0.1333 - val_accuracy: 0.9708\n",
      "Epoch 95/100\n",
      "13/13 [==============================] - 0s 3ms/step - loss: 0.1091 - accuracy: 0.9765 - val_loss: 0.1327 - val_accuracy: 0.9708\n",
      "Epoch 96/100\n",
      "13/13 [==============================] - 0s 3ms/step - loss: 0.1037 - accuracy: 0.9764 - val_loss: 0.1320 - val_accuracy: 0.9708\n",
      "Epoch 97/100\n",
      "13/13 [==============================] - 0s 3ms/step - loss: 0.1093 - accuracy: 0.9760 - val_loss: 0.1314 - val_accuracy: 0.9708\n",
      "Epoch 98/100\n",
      "13/13 [==============================] - 0s 3ms/step - loss: 0.1077 - accuracy: 0.9607 - val_loss: 0.1308 - val_accuracy: 0.9708\n",
      "Epoch 99/100\n",
      "13/13 [==============================] - 0s 3ms/step - loss: 0.0995 - accuracy: 0.9837 - val_loss: 0.1302 - val_accuracy: 0.9708\n",
      "Epoch 100/100\n",
      "13/13 [==============================] - 0s 3ms/step - loss: 0.1081 - accuracy: 0.9719 - val_loss: 0.1296 - val_accuracy: 0.9708\n"
     ]
    }
   ],
   "source": [
    "# train the model\n",
    "r = model.fit(X_train, y_train, validation_data=(X_test, y_test), epochs=100)"
   ]
  },
  {
   "cell_type": "code",
   "execution_count": 14,
   "metadata": {},
   "outputs": [
    {
     "name": "stdout",
     "output_type": "stream",
     "text": [
      "13/13 [==============================] - 0s 713us/step - loss: 0.1072 - accuracy: 0.9774\n",
      "Train score: [0.10720168054103851, 0.9773869514465332]\n",
      "6/6 [==============================] - 0s 766us/step - loss: 0.1296 - accuracy: 0.9708\n",
      "Test score: [0.12964844703674316, 0.9707602262496948]\n"
     ]
    }
   ],
   "source": [
    "# Evaluate the model - evaluate() return loss and accuracy\n",
    "print(\"Train score:\", model.evaluate(X_train, y_train))\n",
    "print(\"Test score:\", model.evaluate(X_test, y_test))"
   ]
  },
  {
   "cell_type": "code",
   "execution_count": 15,
   "metadata": {},
   "outputs": [
    {
     "data": {
      "text/plain": [
       "dict_keys(['loss', 'accuracy', 'val_loss', 'val_accuracy'])"
      ]
     },
     "execution_count": 15,
     "metadata": {},
     "output_type": "execute_result"
    }
   ],
   "source": [
    "r.history.keys()"
   ]
  },
  {
   "cell_type": "code",
   "execution_count": 16,
   "metadata": {},
   "outputs": [
    {
     "data": {
      "text/plain": [
       "<matplotlib.legend.Legend at 0x7f43386d9970>"
      ]
     },
     "execution_count": 16,
     "metadata": {},
     "output_type": "execute_result"
    },
    {
     "data": {
      "image/png": "[encoded data removed]",
      "text/plain": [
       "<Figure size 432x288 with 1 Axes>"
      ]
     },
     "metadata": {
      "needs_background": "light"
     },
     "output_type": "display_data"
    }
   ],
   "source": [
    "# plot what's returned by model.fit()\n",
    "plt.plot(r.history['loss'], label='loss')\n",
    "plt.plot(r.history['val_loss'], label='val_loss')\n",
    "plt.legend()"
   ]
  },
  {
   "cell_type": "code",
   "execution_count": 17,
   "metadata": {},
   "outputs": [
    {
     "data": {
      "text/plain": [
       "<matplotlib.legend.Legend at 0x7f4338624d30>"
      ]
     },
     "execution_count": 17,
     "metadata": {},
     "output_type": "execute_result"
    },
    {
     "data": {
      "image/png": "[encoded data removed]",
      "text/plain": [
       "<Figure size 432x288 with 1 Axes>"
      ]
     },
     "metadata": {
      "needs_background": "light"
     },
     "output_type": "display_data"
    }
   ],
   "source": [
    "plt.plot(r.history['accuracy'], label='acc')\n",
    "plt.plot(r.history['val_accuracy'], label='val_acc')\n",
    "plt.legend()"
   ]
  },
  {
   "cell_type": "code",
   "execution_count": 18,
   "metadata": {},
   "outputs": [],
   "source": [
    "# make predictions\n",
    "P = model.predict(X_test)"
   ]
  },
  {
   "cell_type": "code",
   "execution_count": 22,
   "metadata": {},
   "outputs": [
    {
     "name": "stdout",
     "output_type": "stream",
     "text": [
      "[0. 1. 0. 1. 1. 1. 0. 1. 0. 1. 1. 1. 1. 1. 1. 0. 1. 1. 0. 1. 1. 1. 1. 1.\n",
      " 1. 1. 0. 0. 1. 0. 1. 0. 1. 1. 1. 0. 1. 1. 1. 1. 1. 1. 1. 0. 0. 1. 0. 1.\n",
      " 1. 1. 1. 1. 1. 1. 0. 1. 0. 1. 0. 1. 1. 1. 1. 1. 1. 0. 0. 1. 0. 1. 1. 1.\n",
      " 0. 1. 1. 1. 0. 0. 0. 1. 1. 1. 1. 1. 0. 1. 1. 0. 1. 1. 0. 0. 1. 0. 1. 1.\n",
      " 1. 1. 0. 0. 1. 1. 0. 1. 1. 1. 0. 0. 1. 0. 0. 1. 1. 0. 0. 1. 1. 1. 0. 0.\n",
      " 0. 1. 1. 1. 1. 1. 1. 1. 0. 1. 0. 0. 1. 1. 1. 0. 1. 0. 1. 1. 1. 1. 1. 1.\n",
      " 0. 1. 1. 0. 1. 0. 1. 1. 0. 1. 1. 0. 0. 1. 0. 1. 1. 1. 1. 1. 1. 1. 0. 0.\n",
      " 0. 1. 0.]\n"
     ]
    }
   ],
   "source": [
    "P = np.round(P).flatten()\n",
    "print(P)"
   ]
  },
  {
   "cell_type": "code",
   "execution_count": 23,
   "metadata": {},
   "outputs": [
    {
     "name": "stdout",
     "output_type": "stream",
     "text": [
      "Manually calculated accuracy: 0.9707602339181286\n",
      "6/6 [==============================] - 0s 745us/step - loss: 0.1296 - accuracy: 0.9708\n",
      "Evaluate output: [0.12964844703674316, 0.9707602262496948]\n"
     ]
    }
   ],
   "source": [
    "# Calculate the accuracy, compare it to evaluate() output\n",
    "print(\"Manually calculated accuracy:\", np.mean(P == y_test))\n",
    "print(\"Evaluate output:\", model.evaluate(X_test, y_test))"
   ]
  },
  {
   "cell_type": "code",
   "execution_count": 24,
   "metadata": {},
   "outputs": [],
   "source": [
    "# saving and loading the model\n",
    "model.save('model.h5')"
   ]
  },
  {
   "cell_type": "code",
   "execution_count": 25,
   "metadata": {},
   "outputs": [
    {
     "name": "stdout",
     "output_type": "stream",
     "text": [
      " data  'Linear Clasification.ipynb'  'Linear Regression.ipynb'\t model.h5\r\n"
     ]
    }
   ],
   "source": [
    "!ls"
   ]
  },
  {
   "cell_type": "code",
   "execution_count": 27,
   "metadata": {},
   "outputs": [
    {
     "name": "stdout",
     "output_type": "stream",
     "text": [
      "[<tensorflow.python.keras.layers.core.Dense object at 0x7f43385a7790>]\n",
      "6/6 [==============================] - 0s 958us/step - loss: 0.1296 - accuracy: 0.9708\n"
     ]
    },
    {
     "data": {
      "text/plain": [
       "[0.12964844703674316, 0.9707602262496948]"
      ]
     },
     "execution_count": 27,
     "metadata": {},
     "output_type": "execute_result"
    }
   ],
   "source": [
    "model = tf.keras.models.load_model('model.h5')\n",
    "print(model.layers)\n",
    "model.evaluate(X_test, y_test)"
   ]
  }
 ],
 "metadata": {
  "kernelspec": {
   "display_name": "Python 3",
   "language": "python",
   "name": "python3"
  },
  "language_info": {
   "codemirror_mode": {
    "name": "ipython",
    "version": 3
   },
   "file_extension": ".py",
   "mimetype": "text/x-python",
   "name": "python",
   "nbconvert_exporter": "python",
   "pygments_lexer": "ipython3",
   "version": "3.8.6"
  }
 },
 "nbformat": 4,
 "nbformat_minor": 4
}
